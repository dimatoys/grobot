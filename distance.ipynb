{
 "cells": [
  {
   "cell_type": "code",
   "execution_count": 1,
   "metadata": {},
   "outputs": [],
   "source": [
    "class TModelPoly:\n",
    "    def __init__(self, x):\n",
    "        self.S = 0\n",
    "        self.X = x\n",
    "        self.C = [0] * len(x)\n",
    "        self.V = [[1] * len(x)]\n",
    "\n",
    "    def Next(self):\n",
    "        #print self.C\n",
    "        r = 1\n",
    "        for i in range(len(self.C)):\n",
    "            r = r * self.V[self.C[i]][i]\n",
    "\n",
    "        if self.C[0] == self.S:\n",
    "            self.S = self.S + 1\n",
    "            self.V.append([])\n",
    "            for i in range(len(self.C)):\n",
    "                self.C[i] = 0\n",
    "                self.V[self.S].append(self.V[self.S - 1][i] * float(self.X[i]))\n",
    "            self.C[-1] = self.S\n",
    "        else:\n",
    "            if self.C[-1] > 0:\n",
    "                self.C[-2] = self.C[-2] + 1\n",
    "                self.C[-1] = self.C[-1] - 1\n",
    "            else:\n",
    "                i = -2\n",
    "                while self.C[i] == 0:\n",
    "                    i = i - 1\n",
    "                self.C[i - 1] = self.C[i - 1] + 1\n",
    "                self.C[-1] = self.C[i] - 1\n",
    "                self.C[i] = 0\n",
    "        return r\n",
    "\n",
    "class TPolyRegression:\n",
    "    def __init__(self, s):\n",
    "        self.S = s\n",
    "        \n",
    "    def GetPolyArray(self, x):\n",
    "        pm = TModelPoly(x)\n",
    "        v = []\n",
    "        while pm.S <= self.S:\n",
    "            v.append(pm.Next())\n",
    "        return v\n",
    "    \n",
    "    def GenerateMX(self, x):\n",
    "        from numpy.linalg import inv\n",
    "        import numpy as np\n",
    "        T = []\n",
    "        for cp in x:\n",
    "            T.append(self.GetPolyArray(cp))\n",
    "        T = np.array(T)\n",
    "        (cols, rows) = T.shape\n",
    "        if rows > cols:\n",
    "            raise BaseException(\"Not enough sample, need at least %d, provided %d\" % (rows, cols))\n",
    "        TT = T.transpose()\n",
    "        return np.dot(inv(np.dot(TT, T)), TT)\n",
    "\n",
    "    def NewY(self, MX, y):\n",
    "        import numpy as np\n",
    "        self.R = np.dot(MX, np.array(y))\n",
    "\n",
    "    def Learn(self, x, y):\n",
    "        import numpy as np\n",
    "        MX = self.GenerateMX(x)\n",
    "        self.NewY(MX, y)\n",
    "\n",
    "    def PrepareX(self,x):\n",
    "        import numpy as np\n",
    "        return np.array([self.GetPolyArray(x)])\n",
    "\n",
    "    def Predict(self, px):\n",
    "        import numpy as np\n",
    "        return np.dot(px, self.R)[0]\n",
    "\n",
    "    def GetValue(self, x):\n",
    "        return self.Predict(self.PrepareX(x))\n"
   ]
  },
  {
   "cell_type": "code",
   "execution_count": 2,
   "metadata": {},
   "outputs": [],
   "source": [
    "m = [(3,0.55),(50,0.501),(100,0.454),(150,0.414),(200,0.382),(250,0.354),(300,0.33),(350,0.308),(400,0.29),(450,0.274)]"
   ]
  },
  {
   "cell_type": "code",
   "execution_count": 11,
   "metadata": {},
   "outputs": [
    {
     "name": "stdout",
     "output_type": "stream",
     "text": [
      "3 -0.00028217202715463685\n",
      "50 0.0008264146580284626\n",
      "100 -0.0002271799664849139\n",
      "150 -0.0010307795408656117\n",
      "200 0.00027096722358782577\n",
      "250 0.0005334116155762403\n",
      "300 0.0006119049238010321\n",
      "350 -0.0006382015630366777\n",
      "400 -0.0003615565562358758\n",
      "450 0.0002971912329047255\n"
     ]
    },
    {
     "data": {
      "image/png": "[encoded data removed]",
      "text/plain": [
       "<Figure size 432x288 with 1 Axes>"
      ]
     },
     "metadata": {
      "needs_background": "light"
     },
     "output_type": "display_data"
    }
   ],
   "source": [
    "import matplotlib.pyplot as plt\n",
    "import numpy as np\n",
    "from math import *\n",
    "\n",
    "lx = []\n",
    "ly = []\n",
    "for yk,d in m:\n",
    "    lx.append([yk])\n",
    "    ly.append([d])\n",
    "\n",
    "pr = TPolyRegression(3)\n",
    "pr.Learn(lx,ly)    \n",
    "    \n",
    "x = []\n",
    "y = []\n",
    "p = []\n",
    "for yk,d in m:\n",
    "    x.append(yk)\n",
    "    y.append(d)\n",
    "    yp = pr.GetValue([yk])[0]\n",
    "    p.append(yp)\n",
    "    print(yk,d - yp)\n",
    "\n",
    "plt.scatter(x, y, color=\"red\")\n",
    "plt.scatter(x, p, color=\"blue\")\n",
    "plt.show()\n"
   ]
  },
  {
   "cell_type": "code",
   "execution_count": null,
   "metadata": {},
   "outputs": [],
   "source": []
  }
 ],
 "metadata": {
  "kernelspec": {
   "display_name": "Python 3",
   "language": "python",
   "name": "python3"
  },
  "language_info": {
   "codemirror_mode": {
    "name": "ipython",
    "version": 3
   },
   "file_extension": ".py",
   "mimetype": "text/x-python",
   "name": "python",
   "nbconvert_exporter": "python",
   "pygments_lexer": "ipython3",
   "version": "3.7.6"
  }
 },
 "nbformat": 4,
 "nbformat_minor": 4
}
